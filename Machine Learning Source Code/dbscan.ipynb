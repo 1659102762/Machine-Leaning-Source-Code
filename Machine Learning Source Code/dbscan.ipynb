{
 "cells": [
  {
   "cell_type": "code",
   "execution_count": 179,
   "id": "a72a72b2-fb94-4b74-985e-8c16dad2fba9",
   "metadata": {},
   "outputs": [
    {
     "name": "stdout",
     "output_type": "stream",
     "text": [
      "{'cluster 1': {0, 1, 2, 3, 5, 6, 9, 10, 12, 13, 15, 18, 21, 23, 27}, 'cluster 2': {4, 7, 8, 11, 16, 17, 19, 20, 22, 24, 25, 26, 29}, 'noise': {28, 14}}\n"
     ]
    },
    {
     "data": {
      "image/png": "[encoded data removed]",
      "text/plain": [
       "<Figure size 640x480 with 1 Axes>"
      ]
     },
     "metadata": {},
     "output_type": "display_data"
    }
   ],
   "source": [
    "class dbscan:\n",
    "    eps=None\n",
    "    minpts=None\n",
    "    def __init__(self,eps,minpts):\n",
    "        self.eps=eps\n",
    "        self.minpts=minpts\n",
    "    def fit(self,x):\n",
    "        self.x=x\n",
    "\n",
    "        def reindex(index,x):\n",
    "            '''\n",
    "            index: should be a set that contains index need to be transformed\n",
    "            x: is a 2-dimension array that is corresponding to 'index'\n",
    "            Return: a new index set that is corresponidng to self.x\n",
    "            \n",
    "            '''\n",
    "            import numpy as np\n",
    "            index=list(index)\n",
    "            new_index=[]\n",
    "            for item1 in x[index]:\n",
    "                for i,item2 in enumerate(self.x):\n",
    "                    if np.all(item1==item2)==True:\n",
    "                        new_index.append(i)\n",
    "            return set(new_index)\n",
    "            \n",
    "        def round(point_index,x):\n",
    "            '''\n",
    "            point_index: should be a scalar as the index of a single data point in 'x'\n",
    "            x: should be a 2-dimension array of the feature data\n",
    "            Return: if the point is a core point, return the set of index of data points within the neigghborhood of this core point,\n",
    "            else return empty set.\n",
    "            \n",
    "            '''\n",
    "            import numpy as np\n",
    "            point=x[point_index]\n",
    "            distances=np.sqrt(np.sum((x-np.array(point))**2,axis=1))\n",
    "            x_index=np.arange(x.shape[0])\n",
    "            if x[distances<=self.eps].shape[0]>=self.minpts:\n",
    "                core_point_neighborhood=set(x_index[distances<=self.eps])\n",
    "            else:\n",
    "                core_point_neighborhood=set()        \n",
    "            return core_point_neighborhood\n",
    "          \n",
    "\n",
    "        def rounds(x):\n",
    "            '''\n",
    "            x: should be a 2-dimension array of the feature data\n",
    "            return: a dictionary that contains the point-index sets of point within the neighborhood of each core point\n",
    "            with the index of each core point as the keys.\n",
    "            \n",
    "            '''\n",
    "            import numpy as np\n",
    "            if x.shape[0]==0:\n",
    "                return {}\n",
    "            else:\n",
    "                x_index=np.arange(x.shape[0])\n",
    "                result={}\n",
    "                for point_index in x_index:\n",
    "                    if round(point_index,x)!=set():\n",
    "                        result[point_index]=round(point_index,x)\n",
    "            \n",
    "                return result\n",
    "            \n",
    "\n",
    "        def cluster(x):\n",
    "            '''\n",
    "            x: should be a 2-dimension array of the feature data\n",
    "            return: a set that contains the index of data point in a cluster\n",
    "            \n",
    "            '''\n",
    "            import numpy as np\n",
    "            core_point_index=np.array(list(rounds(x).keys()))\n",
    "            if core_point_index.shape[0]==0:# in this case, no point in x is core point\n",
    "                return set()\n",
    "            else:\n",
    "                selected_intial_point_index=np.random.RandomState(123).choice(core_point_index)\n",
    "                core_points_dict=rounds(x)\n",
    "                init_point_set=round(selected_intial_point_index,x)\n",
    "                for core_point,neighborhood_set in core_points_dict.items():\n",
    "                    if init_point_set&neighborhood_set!=set():\n",
    "                        init_point_set=init_point_set|neighborhood_set\n",
    "                return init_point_set\n",
    "                           \n",
    "        def delete_points(x):\n",
    "            '''\n",
    "            x: should be a 2-dimension array of the feature data\n",
    "            return: a set of remaining points after deleting the points in a cluster from all data points \n",
    "            for the convenience of select an intial point for the next cluster.\n",
    "        \n",
    "            '''\n",
    "            x_index=np.arange(x.shape[0])\n",
    "            x_set=set(x_index)\n",
    "            deleted_set=x_set-cluster(x)\n",
    "            result=x[list(deleted_set)]\n",
    "            return result\n",
    "# create the dictionary of each cluster and noise           \n",
    "        clusters={}\n",
    "        i=0\n",
    "        while True:\n",
    "            i=i+1\n",
    "            if cluster(x)==set():       \n",
    "                break\n",
    "            else:\n",
    "                clusters[f'cluster {i}']=reindex(cluster(x),x)\n",
    "                x=delete_points(x)\n",
    "        all_index=set(np.arange(self.x.shape[0]))\n",
    "        cluster_point_index={item for subset in list(clusters.values()) for item in subset}\n",
    "        noise=all_index-cluster_point_index\n",
    "        clusters['noise']=noise\n",
    "        self.clustering_result=clusters\n",
    "                \n",
    "    def predict(self,x):\n",
    "        return self.clustering_result\n",
    "#test\n",
    "from sklearn.datasets import load_iris\n",
    "from sklearn.model_selection import train_test_split\n",
    "import numpy as np\n",
    "x=load_iris().data\n",
    "y=load_iris().target\n",
    "x_index=np.arange(x.shape[0])\n",
    "x=x[np.random.RandomState(123).choice(x_index,30,replace=False)]\n",
    "clf=dbscan(1,3)\n",
    "clf.fit(x)\n",
    "result=clf.predict(x)\n",
    "import matplotlib.pyplot as plt\n",
    "fig,ax=plt.subplots()\n",
    "ax.scatter(x[list(result['cluster 1'])][:,0],x[list(result['cluster 1'])][:,1],color='blue')\n",
    "ax.scatter(x[list(result['cluster 2'])][:,0],x[list(result['cluster 2'])][:,1],color='red')\n",
    "ax.scatter(x[list(result['noise'])][:,0],x[list(result['noise'])][:,1],color='black')\n",
    "print(result)"
   ]
  },
  {
   "cell_type": "code",
   "execution_count": 181,
   "id": "2a3e75f0-a052-4fd9-97a0-1f7f6bfdb4a1",
   "metadata": {},
   "outputs": [
    {
     "data": {
      "text/plain": [
       "array([ 0,  0,  0,  0,  1,  0,  0,  1,  1,  0,  0,  1,  0,  0, -1,  0,  1,\n",
       "        1,  0,  1,  1,  0,  1,  0,  1,  1,  1,  0, -1,  1], dtype=int64)"
      ]
     },
     "execution_count": 181,
     "metadata": {},
     "output_type": "execute_result"
    },
    {
     "data": {
      "image/png": "[encoded data removed]",
      "text/plain": [
       "<Figure size 640x480 with 1 Axes>"
      ]
     },
     "metadata": {},
     "output_type": "display_data"
    }
   ],
   "source": [
    "# Show the graph of clustering result of data by sklearn.cluster.DBSCAN()\n",
    "from sklearn.datasets import load_iris\n",
    "from sklearn.model_selection import train_test_split\n",
    "from sklearn.cluster import DBSCAN\n",
    "import numpy as np\n",
    "x=load_iris().data\n",
    "y=load_iris().target\n",
    "x=x[np.random.RandomState(123).choice(x_index,30,replace=False)]\n",
    "clf=DBSCAN(eps=1,min_samples=3)\n",
    "result=clf.fit_predict(x)\n",
    "import matplotlib.pyplot as plt\n",
    "fig,ax=plt.subplots()\n",
    "ax.scatter(x[result==0][:,0],x[result==0][:,1],color='blue')\n",
    "ax.scatter(x[result==1][:,0],x[result==1][:,1],color='red')\n",
    "ax.scatter(x[result==-1][:,0],x[result==-1][:,1],color='black')\n",
    "result"
   ]
  }
 ],
 "metadata": {
  "kernelspec": {
   "display_name": "Python 3 (ipykernel)",
   "language": "python",
   "name": "python3"
  },
  "language_info": {
   "codemirror_mode": {
    "name": "ipython",
    "version": 3
   },
   "file_extension": ".py",
   "mimetype": "text/x-python",
   "name": "python",
   "nbconvert_exporter": "python",
   "pygments_lexer": "ipython3",
   "version": "3.12.4"
  }
 },
 "nbformat": 4,
 "nbformat_minor": 5
}
